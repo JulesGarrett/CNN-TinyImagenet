{
 "cells": [
  {
   "cell_type": "code",
   "execution_count": 1,
   "metadata": {},
   "outputs": [],
   "source": [
    "import cv2                 # working with, mainly resizing, images\n",
    "import numpy as np         # dealing with arrays\n",
    "import os                  # dealing with directories\n",
    "from random import shuffle # mixing up or currently ordered data that might lead our network astray in training.\n",
    "from tqdm import tqdm \n",
    "import pprint as pp"
   ]
  },
  {
   "cell_type": "code",
   "execution_count": 2,
   "metadata": {},
   "outputs": [],
   "source": [
    "TRAIN_DIR = 'train'#'X:/Kaggle_Data/dogs_vs_cats/train/train'\n",
    "TEST_DIR = 'test'#'X:/Kaggle_Data/dogs_vs_cats/test/test'\n",
    "IMG_SIZE = 64\n",
    "LR = 1e-3\n",
    "train_path = \"/Users/julesgarrett/Downloads/tiny-imagenet-200/train\"\n",
    "label_path = \"/Users/julesgarrett/Downloads/tiny-imagenet-200\""
   ]
  },
  {
   "cell_type": "code",
   "execution_count": 3,
   "metadata": {},
   "outputs": [
    {
     "name": "stderr",
     "output_type": "stream",
     "text": [
      " 10%|█         | 20/200 [00:06<01:02,  2.89it/s]\n"
     ]
    }
   ],
   "source": [
    "train_data =[]\n",
    "label = []\n",
    "counter = 0\n",
    "for file in tqdm(os.listdir(train_path)):\n",
    "    if counter == 20:\n",
    "        break\n",
    "    for pic in os.listdir(train_path+\"/\"+file+\"/images\"):\n",
    "        img = cv2.imread(train_path+\"/\"+file+\"/images/\"+pic)\n",
    "        train_data.append(np.array(img))\n",
    "        label.append(file)\n",
    "    counter += 1\n",
    "train_data = np.array(train_data)\n",
    "# np.save('tiny-imagenet-train.npy', train_data)"
   ]
  },
  {
   "cell_type": "code",
   "execution_count": 4,
   "metadata": {},
   "outputs": [],
   "source": [
    "label = np.array(label)\n",
    "\n",
    "label = np.reshape(label, (len(label), 1))\n"
   ]
  },
  {
   "cell_type": "code",
   "execution_count": 5,
   "metadata": {},
   "outputs": [
    {
     "name": "stderr",
     "output_type": "stream",
     "text": [
      "\r",
      "  0%|          | 0/10000 [00:00<?, ?it/s]"
     ]
    },
    {
     "name": "stdout",
     "output_type": "stream",
     "text": [
      "20\n"
     ]
    },
    {
     "name": "stderr",
     "output_type": "stream",
     "text": [
      "\n"
     ]
    }
   ],
   "source": [
    "lab_id = {}\n",
    "lab = []\n",
    "seen = []\n",
    "labels = []\n",
    "counter = 0\n",
    "for l in tqdm(range(label.shape[0])):\n",
    "    if counter == 20:\n",
    "        break\n",
    "    if label[l] in seen:\n",
    "        continue\n",
    "    else:\n",
    "        seen.append(label[l])\n",
    "        l_id = str(label[l])\n",
    "        new_dict_entry = {l_id : counter}\n",
    "        counter += 1 \n",
    "        lab_id.update(new_dict_entry)\n",
    "# print(lab_id) \n",
    "num_classes = counter\n",
    "print(num_classes)"
   ]
  },
  {
   "cell_type": "code",
   "execution_count": 6,
   "metadata": {},
   "outputs": [
    {
     "name": "stderr",
     "output_type": "stream",
     "text": [
      "100%|██████████| 10000/10000 [00:00<00:00, 45755.73it/s]\n"
     ]
    }
   ],
   "source": [
    "for l in tqdm(range(label.shape[0])):\n",
    "    temp = np.zeros(num_classes)\n",
    "    clss = label[l]\n",
    "    index = lab_id.get(str(clss))\n",
    "    temp[index] = 1\n",
    "    labels.append(temp)"
   ]
  },
  {
   "cell_type": "code",
   "execution_count": 7,
   "metadata": {},
   "outputs": [],
   "source": [
    "labels = np.array(labels)\n",
    "# print(labels.shape)"
   ]
  },
  {
   "cell_type": "code",
   "execution_count": 8,
   "metadata": {},
   "outputs": [
    {
     "name": "stderr",
     "output_type": "stream",
     "text": [
      "100%|██████████| 10000/10000 [00:00<00:00, 455190.14it/s]\n"
     ]
    }
   ],
   "source": [
    "training_data = []\n",
    "for l in tqdm(range(label.shape[0])):\n",
    "    training_data.append([train_data[l], labels[l]])\n",
    "    \n",
    "shuffle(training_data)\n",
    "\n",
    "np.save('training_data.npy', training_data)\n"
   ]
  },
  {
   "cell_type": "code",
   "execution_count": 9,
   "metadata": {},
   "outputs": [
    {
     "name": "stdout",
     "output_type": "stream",
     "text": [
      "(10000, 2)\n"
     ]
    }
   ],
   "source": [
    "\n",
    "trn_data = np.load('training_data.npy')\n",
    "print(trn_data.shape)"
   ]
  },
  {
   "cell_type": "code",
   "execution_count": 10,
   "metadata": {},
   "outputs": [
    {
     "name": "stdout",
     "output_type": "stream",
     "text": [
      "WARNING:tensorflow:From /anaconda3/lib/python3.7/site-packages/tensorflow/python/framework/op_def_library.py:263: colocate_with (from tensorflow.python.framework.ops) is deprecated and will be removed in a future version.\n",
      "Instructions for updating:\n",
      "Colocations handled automatically by placer.\n",
      "WARNING:tensorflow:From /anaconda3/lib/python3.7/site-packages/tflearn/initializations.py:119: UniformUnitScaling.__init__ (from tensorflow.python.ops.init_ops) is deprecated and will be removed in a future version.\n",
      "Instructions for updating:\n",
      "Use tf.initializers.variance_scaling instead with distribution=uniform to get equivalent behavior.\n",
      "WARNING:tensorflow:From /anaconda3/lib/python3.7/site-packages/tflearn/layers/core.py:239: calling dropout (from tensorflow.python.ops.nn_ops) with keep_prob is deprecated and will be removed in a future version.\n",
      "Instructions for updating:\n",
      "Please use `rate` instead of `keep_prob`. Rate should be set to `rate = 1 - keep_prob`.\n",
      "WARNING:tensorflow:From /anaconda3/lib/python3.7/site-packages/tflearn/objectives.py:66: calling reduce_sum_v1 (from tensorflow.python.ops.math_ops) with keep_dims is deprecated and will be removed in a future version.\n",
      "Instructions for updating:\n",
      "keep_dims is deprecated, use keepdims instead\n",
      "WARNING:tensorflow:From /anaconda3/lib/python3.7/site-packages/tensorflow/python/ops/math_ops.py:3066: to_int32 (from tensorflow.python.ops.math_ops) is deprecated and will be removed in a future version.\n",
      "Instructions for updating:\n",
      "Use tf.cast instead.\n"
     ]
    }
   ],
   "source": [
    "import tflearn\n",
    "from tflearn.layers.conv import conv_2d, max_pool_2d\n",
    "from tflearn.layers.core import input_data, dropout, fully_connected\n",
    "from tflearn.layers.estimator import regression\n",
    "\n",
    "convnet = input_data(shape=[None, IMG_SIZE, IMG_SIZE, 3], name='input')\n",
    "#       net = layers.conv2d(inputs, 64, [11, 11], 4, padding='VALID', scope='conv1')\n",
    "#       net = layers_lib.max_pool2d(net, [3, 3], 2, scope='pool1')\n",
    "\n",
    "#       net = layers.conv2d(net, 192, [5, 5], scope='conv2')\n",
    "#       net = layers_lib.max_pool2d(net, [3, 3], 2, scope='pool2')\n",
    "\n",
    "#       net = layers.conv2d(net, 384, [3, 3], scope='conv3')\n",
    "#       net = layers.conv2d(net, 384, [3, 3], scope='conv4')\n",
    "#       net = layers.conv2d(net, 256, [3, 3], scope='conv5')\n",
    "#       net = layers_lib.max_pool2d(net, [3, 3], 2, scope='pool5')\n",
    "convnet = conv_2d(convnet, 64, [11,11],  4, activation='relu')\n",
    "convnet = max_pool_2d(convnet,[3,3], 2)\n",
    "\n",
    "convnet = conv_2d(convnet, 192, [5,5], activation='relu')\n",
    "convnet = max_pool_2d(convnet,[3,3], 2)\n",
    "\n",
    "convnet = conv_2d(convnet, 384, [3,3], activation='relu')\n",
    "\n",
    "convnet = conv_2d(convnet, 384, [3,3], activation='relu')\n",
    "\n",
    "convnet = conv_2d(convnet, 256, [3,3], activation='relu')\n",
    "convnet = max_pool_2d(convnet,[3,3], 2)\n",
    "\n",
    "convnet = fully_connected(convnet, 1024, activation='relu')\n",
    "\n",
    "convnet = fully_connected(convnet, 1024, activation='relu')\n",
    "convnet = dropout(convnet, 0.8)\n",
    "\n",
    "convnet = fully_connected(convnet, num_classes, activation='softmax')\n",
    "convnet = regression(convnet, optimizer='adam', learning_rate=LR, loss='categorical_crossentropy', name='targets')\n",
    "\n",
    "model = tflearn.DNN(convnet, tensorboard_dir='log')"
   ]
  },
  {
   "cell_type": "code",
   "execution_count": 11,
   "metadata": {},
   "outputs": [],
   "source": [
    "# print(trn_data)\n",
    "train = trn_data[:-500]\n",
    "test = trn_data[-500:]"
   ]
  },
  {
   "cell_type": "code",
   "execution_count": 12,
   "metadata": {},
   "outputs": [],
   "source": [
    "x = np.array([i[0] for i in train])\n",
    "# print(x.shape)\n",
    "y = [i[1] for i in train]\n",
    "\n",
    "test_x = np.array([i[0] for i in test])\n",
    "test_y = [i[1] for i in test]"
   ]
  },
  {
   "cell_type": "code",
   "execution_count": 13,
   "metadata": {},
   "outputs": [
    {
     "name": "stdout",
     "output_type": "stream",
     "text": [
      "Training Step: 1489  | total loss: \u001b[1m\u001b[32m1.49465\u001b[0m\u001b[0m | time: 74.309s\n",
      "| Adam | epoch: 010 | loss: 1.49465 - acc: 0.5411 -- iter: 9472/9500\n",
      "Training Step: 1490  | total loss: \u001b[1m\u001b[32m1.48808\u001b[0m\u001b[0m | time: 75.841s\n",
      "| Adam | epoch: 010 | loss: 1.48808 - acc: 0.5386 | val_loss: 2.23884 - val_acc: 0.4080 -- iter: 9500/9500\n",
      "--\n"
     ]
    }
   ],
   "source": [
    "MODEL_NAME = 'test_cnn-{}-{}.model'.format(LR, '2conv-basic')\n",
    "model.fit({'input': x}, {'targets': y}, n_epoch=10, validation_set=({'input': test_x}, {'targets': test_y}), \n",
    "    snapshot_step=500, show_metric=True, run_id=MODEL_NAME)"
   ]
  },
  {
   "cell_type": "code",
   "execution_count": null,
   "metadata": {},
   "outputs": [],
   "source": []
  },
  {
   "cell_type": "code",
   "execution_count": null,
   "metadata": {},
   "outputs": [],
   "source": []
  },
  {
   "cell_type": "code",
   "execution_count": null,
   "metadata": {},
   "outputs": [],
   "source": []
  },
  {
   "cell_type": "code",
   "execution_count": null,
   "metadata": {},
   "outputs": [],
   "source": []
  },
  {
   "cell_type": "code",
   "execution_count": null,
   "metadata": {},
   "outputs": [],
   "source": []
  }
 ],
 "metadata": {
  "kernelspec": {
   "display_name": "Python 3",
   "language": "python",
   "name": "python3"
  },
  "language_info": {
   "codemirror_mode": {
    "name": "ipython",
    "version": 3
   },
   "file_extension": ".py",
   "mimetype": "text/x-python",
   "name": "python",
   "nbconvert_exporter": "python",
   "pygments_lexer": "ipython3",
   "version": "3.7.1"
  }
 },
 "nbformat": 4,
 "nbformat_minor": 2
}
