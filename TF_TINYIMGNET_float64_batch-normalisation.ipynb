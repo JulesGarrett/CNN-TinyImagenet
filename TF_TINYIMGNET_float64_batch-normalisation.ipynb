{
 "cells": [
  {
   "cell_type": "code",
   "execution_count": 1,
   "metadata": {},
   "outputs": [],
   "source": [
    "from __future__ import print_function\n",
    "    \n",
    "import os\n",
    "# fixes automatic kernel restart for no obvious reason\n",
    "os.environ['KMP_DUPLICATE_LIB_OK']='True'\n"
   ]
  },
  {
   "cell_type": "code",
   "execution_count": 2,
   "metadata": {},
   "outputs": [],
   "source": [
    "import cv2                 # working with, mainly resizing, images\n",
    "import numpy as np         # dealing with arrays\n",
    "import os                  # dealing with directories\n",
    "from random import shuffle # mixing up or currently ordered data that might lead our network astray in training.\n",
    "# from tqdm import tqdm \n",
    "from tqdm import tqdm_notebook as tqdm\n",
    "import pprint as pp"
   ]
  },
  {
   "cell_type": "code",
   "execution_count": 3,
   "metadata": {},
   "outputs": [],
   "source": [
    "TRAIN_DIR = 'train'#'X:/Kaggle_Data/dogs_vs_cats/train/train'\n",
    "TEST_DIR = 'test'#'X:/Kaggle_Data/dogs_vs_cats/test/test'\n",
    "IMG_SIZE = 64\n",
    "LR = 1e-3\n",
    "train_path = \"/Volumes/Macintosh-HD/datasets/tiny-imagenet-200/train\"\n",
    "label_path = \"/Volumes/Macintosh-HD/datasets/tiny-imagenet-200\""
   ]
  },
  {
   "cell_type": "code",
   "execution_count": 4,
   "metadata": {},
   "outputs": [
    {
     "data": {
      "application/vnd.jupyter.widget-view+json": {
       "model_id": "0fba1359c07e41308ed3d8730938b67a",
       "version_major": 2,
       "version_minor": 0
      },
      "text/plain": [
       "HBox(children=(IntProgress(value=0, max=200), HTML(value='')))"
      ]
     },
     "metadata": {},
     "output_type": "display_data"
    },
    {
     "name": "stdout",
     "output_type": "stream",
     "text": [
      "convert images from uint8 to float64\n",
      "max 255.0\n",
      "mean 107.63991454264323\n",
      "std 66.31287125920697\n",
      "max after normalisation 2.222194314002005\n",
      "mean after normalisation 1.7879031588563522e-16\n",
      "std after normalisation 1.0000000000000018\n"
     ]
    }
   ],
   "source": [
    "train_data =[]\n",
    "label = []\n",
    "counter = 0\n",
    "for file in tqdm(os.listdir(train_path)):\n",
    "    if counter == 20:\n",
    "        break\n",
    "    for pic in os.listdir(train_path+\"/\"+file+\"/images\"):\n",
    "        img = cv2.imread(train_path+\"/\"+file+\"/images/\"+pic)\n",
    "        train_data.append(np.array(img))\n",
    "        label.append(file)\n",
    "    counter += 1\n",
    "train_data = np.array(train_data)\n",
    "# np.save('tiny-imagenet-train.npy', train_data)\n",
    "\n",
    "print('convert images from uint8 to float64')\n",
    "train_data = train_data.astype(float)\n",
    "\n",
    "print('max',np.max(train_data))\n",
    "print('mean',np.mean(train_data))\n",
    "print('std',np.std(train_data))\n",
    "\n",
    "train_data = train_data - np.mean(train_data)\n",
    "train_data = train_data / np.std(train_data)\n",
    "\n",
    "print('max after normalisation',np.max(train_data))\n",
    "print('mean after normalisation',np.mean(train_data))\n",
    "print('std after normalisation',np.std(train_data))\n"
   ]
  },
  {
   "cell_type": "code",
   "execution_count": 5,
   "metadata": {},
   "outputs": [],
   "source": [
    "label = np.array(label)\n",
    "\n",
    "label = np.reshape(label, (len(label), 1))\n"
   ]
  },
  {
   "cell_type": "code",
   "execution_count": 6,
   "metadata": {},
   "outputs": [
    {
     "data": {
      "application/vnd.jupyter.widget-view+json": {
       "model_id": "26d887681771498bb4fbacf419f8017c",
       "version_major": 2,
       "version_minor": 0
      },
      "text/plain": [
       "HBox(children=(IntProgress(value=0, max=10000), HTML(value='')))"
      ]
     },
     "metadata": {},
     "output_type": "display_data"
    },
    {
     "name": "stdout",
     "output_type": "stream",
     "text": [
      "20\n"
     ]
    }
   ],
   "source": [
    "lab_id = {}\n",
    "lab = []\n",
    "seen = []\n",
    "labels = []\n",
    "counter = 0\n",
    "for l in tqdm(range(label.shape[0])):\n",
    "    if counter == 20:\n",
    "        break\n",
    "    if label[l] in seen:\n",
    "        continue\n",
    "    else:\n",
    "        seen.append(label[l])\n",
    "        l_id = str(label[l])\n",
    "        new_dict_entry = {l_id : counter}\n",
    "        counter += 1 \n",
    "        lab_id.update(new_dict_entry)\n",
    "# print(lab_id) \n",
    "num_classes = counter\n",
    "print(num_classes)"
   ]
  },
  {
   "cell_type": "code",
   "execution_count": 7,
   "metadata": {},
   "outputs": [
    {
     "data": {
      "application/vnd.jupyter.widget-view+json": {
       "model_id": "8b2d9acfc320484e80529b33e909edd9",
       "version_major": 2,
       "version_minor": 0
      },
      "text/plain": [
       "HBox(children=(IntProgress(value=0, max=10000), HTML(value='')))"
      ]
     },
     "metadata": {},
     "output_type": "display_data"
    }
   ],
   "source": [
    "for l in tqdm(range(label.shape[0])):\n",
    "    temp = np.zeros(num_classes)\n",
    "    clss = label[l]\n",
    "    index = lab_id.get(str(clss))\n",
    "    temp[index] = 1\n",
    "    labels.append(temp)"
   ]
  },
  {
   "cell_type": "code",
   "execution_count": 8,
   "metadata": {},
   "outputs": [],
   "source": [
    "labels = np.array(labels)\n",
    "# print(labels.shape)"
   ]
  },
  {
   "cell_type": "code",
   "execution_count": 9,
   "metadata": {},
   "outputs": [
    {
     "data": {
      "application/vnd.jupyter.widget-view+json": {
       "model_id": "6066d9099e3841c7933b17703148ea70",
       "version_major": 2,
       "version_minor": 0
      },
      "text/plain": [
       "HBox(children=(IntProgress(value=0, max=10000), HTML(value='')))"
      ]
     },
     "metadata": {},
     "output_type": "display_data"
    }
   ],
   "source": [
    "training_data = []\n",
    "for l in tqdm(range(label.shape[0])):\n",
    "    training_data.append([train_data[l], labels[l]])\n",
    "    \n",
    "shuffle(training_data)\n",
    "\n",
    "np.save('training_data.npy', training_data)\n"
   ]
  },
  {
   "cell_type": "code",
   "execution_count": 10,
   "metadata": {},
   "outputs": [
    {
     "name": "stdout",
     "output_type": "stream",
     "text": [
      "(10000, 2)\n"
     ]
    }
   ],
   "source": [
    "\n",
    "trn_data = np.load('training_data.npy')\n",
    "print(trn_data.shape)"
   ]
  },
  {
   "cell_type": "code",
   "execution_count": 11,
   "metadata": {},
   "outputs": [
    {
     "name": "stdout",
     "output_type": "stream",
     "text": [
      "WARNING:tensorflow:From /Volumes/Macintosh-HD/anaconda3/envs/mp2/lib/python3.6/site-packages/tflearn/initializations.py:119: UniformUnitScaling.__init__ (from tensorflow.python.ops.init_ops) is deprecated and will be removed in a future version.\n",
      "Instructions for updating:\n",
      "Use tf.initializers.variance_scaling instead with distribution=uniform to get equivalent behavior.\n",
      "WARNING:tensorflow:From /Volumes/Macintosh-HD/anaconda3/envs/mp2/lib/python3.6/site-packages/tflearn/objectives.py:66: calling reduce_sum (from tensorflow.python.ops.math_ops) with keep_dims is deprecated and will be removed in a future version.\n",
      "Instructions for updating:\n",
      "keep_dims is deprecated, use keepdims instead\n"
     ]
    }
   ],
   "source": [
    "import tflearn\n",
    "from tflearn.layers.conv import conv_2d, max_pool_2d\n",
    "from tflearn.layers.core import input_data, dropout, fully_connected\n",
    "from tflearn.layers.estimator import regression\n",
    "from tflearn.layers.normalization import batch_normalization\n",
    "\n",
    "convnet = input_data(shape=[None, IMG_SIZE, IMG_SIZE, 3], name='input')\n",
    "#       net = layers.conv2d(inputs, 64, [11, 11], 4, padding='VALID', scope='conv1')\n",
    "#       net = layers_lib.max_pool2d(net, [3, 3], 2, scope='pool1')\n",
    "\n",
    "#       net = layers.conv2d(net, 192, [5, 5], scope='conv2')\n",
    "#       net = layers_lib.max_pool2d(net, [3, 3], 2, scope='pool2')\n",
    "\n",
    "#       net = layers.conv2d(net, 384, [3, 3], scope='conv3')\n",
    "#       net = layers.conv2d(net, 384, [3, 3], scope='conv4')\n",
    "#       net = layers.conv2d(net, 256, [3, 3], scope='conv5')\n",
    "#       net = layers_lib.max_pool2d(net, [3, 3], 2, scope='pool5')\n",
    "convnet = conv_2d(convnet, 64, [11,11],  4, activation='relu')\n",
    "# convnet = conv_2d(convnet, 64, [5,5], 2, activation='relu')\n",
    "\n",
    "convnet = max_pool_2d(convnet,[3,3], 2)\n",
    "\n",
    "convnet = conv_2d(convnet, 192, [5,5], activation='relu')\n",
    "convnet = max_pool_2d(convnet,[3,3], 2)\n",
    "\n",
    "convnet = batch_normalization(convnet)\n",
    "\n",
    "convnet = conv_2d(convnet, 384, [3,3], activation='relu')\n",
    "\n",
    "convnet = conv_2d(convnet, 384, [3,3], activation='relu')\n",
    "\n",
    "convnet = conv_2d(convnet, 256, [3,3], activation='relu')\n",
    "convnet = max_pool_2d(convnet,[3,3], 2)\n",
    "\n",
    "convnet = batch_normalization(convnet)\n",
    "\n",
    "convnet = fully_connected(convnet, 1024, activation='relu')\n",
    "# convnet = dropout(convnet, 0.8)\n",
    "\n",
    "\n",
    "convnet = fully_connected(convnet, 1024, activation='relu')\n",
    "convnet = dropout(convnet, 0.8)\n",
    "# convnet = dropout(convnet, 0.7)\n",
    "# convnet = dropout(convnet, 0.6)\n",
    "# convnet = dropout(convnet, 0.5)\n",
    "\n",
    "\n",
    "convnet = fully_connected(convnet, num_classes, activation='softmax')\n",
    "convnet = regression(convnet, optimizer='adam', learning_rate=LR, loss='categorical_crossentropy', name='targets')\n",
    "\n",
    "model = tflearn.DNN(convnet, tensorboard_dir='log')\n"
   ]
  },
  {
   "cell_type": "code",
   "execution_count": 12,
   "metadata": {},
   "outputs": [],
   "source": [
    "# print(trn_data)\n",
    "train = trn_data[:-500]\n",
    "test = trn_data[-500:]"
   ]
  },
  {
   "cell_type": "code",
   "execution_count": 13,
   "metadata": {},
   "outputs": [],
   "source": [
    "x = np.array([i[0] for i in train])\n",
    "# print(x.shape)\n",
    "y = [i[1] for i in train]\n",
    "\n",
    "test_x = np.array([i[0] for i in test])\n",
    "test_y = [i[1] for i in test]"
   ]
  },
  {
   "cell_type": "code",
   "execution_count": 14,
   "metadata": {},
   "outputs": [
    {
     "name": "stdout",
     "output_type": "stream",
     "text": [
      "Training Step: 446  | total loss: \u001b[1m\u001b[32m2.06349\u001b[0m\u001b[0m | time: 223.352s\n",
      "| Adam | epoch: 003 | loss: 2.06349 - acc: 0.3670 -- iter: 9472/9500\n",
      "Training Step: 447  | total loss: \u001b[1m\u001b[32m2.07784\u001b[0m\u001b[0m | time: 228.257s\n",
      "| Adam | epoch: 003 | loss: 2.07784 - acc: 0.3631 | val_loss: 2.19988 - val_acc: 0.3400 -- iter: 9500/9500\n",
      "--\n",
      "INFO:tensorflow:/Volumes/System/Downloads/KannaDandamudi/CNN-TinyImagenet/models/test_cnn-0.001-2conv-basic-Mon-normInput_float64-bn.model-epochs_3 is not in all_model_checkpoint_paths. Manually adding it.\n"
     ]
    }
   ],
   "source": [
    "epoch = 0\n",
    "\n",
    "def train(epoch, epochs):\n",
    "    print('epoch',epoch)\n",
    "\n",
    "    for round1 in range(epochs):\n",
    "\n",
    "        MODEL_NAME = 'test_cnn-{}-{}.model'.format(LR, '2conv-basic-Mon-normInput_float64-bn')\n",
    "\n",
    "        model.fit({'input': x}, {'targets': y}, n_epoch=1, validation_set=({'input': test_x}, {'targets': test_y}), \n",
    "        snapshot_step=100, show_metric=True, run_id=MODEL_NAME)\n",
    "\n",
    "        epoch += 1\n",
    "        MODEL_NAME_SAVE = 'models/'+'{}-epochs_{}'.format(MODEL_NAME, epoch)    \n",
    "        model.save(MODEL_NAME_SAVE)\n",
    "    \n",
    "    return epoch\n",
    "\n",
    "epoch = train(epoch, 3)"
   ]
  },
  {
   "cell_type": "code",
   "execution_count": 15,
   "metadata": {},
   "outputs": [
    {
     "name": "stdout",
     "output_type": "stream",
     "text": [
      "Training Step: 1489  | total loss: \u001b[1m\u001b[32m1.19794\u001b[0m\u001b[0m | time: 202.408s\n",
      "| Adam | epoch: 010 | loss: 1.19794 - acc: 0.6302 -- iter: 9472/9500\n",
      "Training Step: 1490  | total loss: \u001b[1m\u001b[32m1.16058\u001b[0m\u001b[0m | time: 207.183s\n",
      "| Adam | epoch: 010 | loss: 1.16058 - acc: 0.6437 | val_loss: 2.23864 - val_acc: 0.4300 -- iter: 9500/9500\n",
      "--\n",
      "INFO:tensorflow:/Volumes/System/Downloads/KannaDandamudi/CNN-TinyImagenet/models/test_cnn-0.001-2conv-basic-Mon-normInput_float64-bn.model-epochs_10 is not in all_model_checkpoint_paths. Manually adding it.\n"
     ]
    }
   ],
   "source": [
    "epoch = train(epoch, 7)"
   ]
  },
  {
   "cell_type": "code",
   "execution_count": 16,
   "metadata": {},
   "outputs": [
    {
     "name": "stdout",
     "output_type": "stream",
     "text": [
      "Training Step: 2979  | total loss: \u001b[1m\u001b[32m0.37705\u001b[0m\u001b[0m | time: 214.125s\n",
      "| Adam | epoch: 020 | loss: 0.37705 - acc: 0.8766 -- iter: 9472/9500\n",
      "Training Step: 2980  | total loss: \u001b[1m\u001b[32m0.41719\u001b[0m\u001b[0m | time: 219.082s\n",
      "| Adam | epoch: 020 | loss: 0.41719 - acc: 0.8671 | val_loss: 2.79123 - val_acc: 0.4480 -- iter: 9500/9500\n",
      "--\n",
      "INFO:tensorflow:/Volumes/System/Downloads/KannaDandamudi/CNN-TinyImagenet/models/test_cnn-0.001-2conv-basic-Mon-normInput_float64-bn.model-epochs_20 is not in all_model_checkpoint_paths. Manually adding it.\n"
     ]
    }
   ],
   "source": [
    "epoch = train(epoch, 10)"
   ]
  },
  {
   "cell_type": "code",
   "execution_count": 17,
   "metadata": {},
   "outputs": [
    {
     "name": "stdout",
     "output_type": "stream",
     "text": [
      "Training Step: 4469  | total loss: \u001b[1m\u001b[32m0.20329\u001b[0m\u001b[0m | time: 219.975s\n",
      "| Adam | epoch: 030 | loss: 0.20329 - acc: 0.9360 -- iter: 9472/9500\n",
      "Training Step: 4470  | total loss: \u001b[1m\u001b[32m0.19360\u001b[0m\u001b[0m | time: 225.775s\n",
      "| Adam | epoch: 030 | loss: 0.19360 - acc: 0.9392 | val_loss: 3.39294 - val_acc: 0.4660 -- iter: 9500/9500\n",
      "--\n",
      "INFO:tensorflow:/Volumes/System/Downloads/KannaDandamudi/CNN-TinyImagenet/models/test_cnn-0.001-2conv-basic-Mon-normInput_float64-bn.model-epochs_30 is not in all_model_checkpoint_paths. Manually adding it.\n"
     ]
    }
   ],
   "source": [
    "epoch = train(epoch, 10)"
   ]
  },
  {
   "cell_type": "code",
   "execution_count": null,
   "metadata": {},
   "outputs": [],
   "source": []
  }
 ],
 "metadata": {
  "kernelspec": {
   "display_name": "Python 3",
   "language": "python",
   "name": "python3"
  },
  "language_info": {
   "codemirror_mode": {
    "name": "ipython",
    "version": 3
   },
   "file_extension": ".py",
   "mimetype": "text/x-python",
   "name": "python",
   "nbconvert_exporter": "python",
   "pygments_lexer": "ipython3",
   "version": "3.6.7"
  }
 },
 "nbformat": 4,
 "nbformat_minor": 2
}
